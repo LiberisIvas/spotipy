{
 "cells": [
  {
   "cell_type": "code",
   "execution_count": 9,
   "id": "8aee9b0c",
   "metadata": {},
   "outputs": [],
   "source": [
    "from bs4 import BeautifulSoup\n",
    "import requests as req\n",
    "import pandas as pd"
   ]
  },
  {
   "cell_type": "code",
   "execution_count": 4,
   "id": "4559c6d7",
   "metadata": {},
   "outputs": [
    {
     "data": {
      "text/plain": [
       "200"
      ]
     },
     "execution_count": 4,
     "metadata": {},
     "output_type": "execute_result"
    }
   ],
   "source": [
    "#Requesting billboard url (to check if song is in the hot list) and checking status code\n",
    "web = req.get(\"https://www.billboard.com/charts/hot-100/\")\n",
    "web.status_code"
   ]
  },
  {
   "cell_type": "code",
   "execution_count": 5,
   "id": "51eefa68",
   "metadata": {},
   "outputs": [],
   "source": [
    "#Encapsulating billboard's content in variable with BeautifulSoup\n",
    "soup = BeautifulSoup(web.content, \"html.parser\")"
   ]
  },
  {
   "cell_type": "code",
   "execution_count": 6,
   "id": "9a66d8b5",
   "metadata": {},
   "outputs": [],
   "source": [
    "#Selecting artists and songs from billboard's soup\n",
    "artists = soup.select(\".c-label.a-no-trucate\")\n",
    "songs = soup.select(\".c-title.a-no-trucate\")"
   ]
  },
  {
   "cell_type": "code",
   "execution_count": 7,
   "id": "885ad096",
   "metadata": {},
   "outputs": [],
   "source": [
    "#Appending lists\n",
    "song_titles = []\n",
    "artists_names = []\n",
    "\n",
    "for i in range(len(artists)):\n",
    "    artists_names.append(artists[i].get_text().strip(\"\\n\"))\n",
    "    song_titles.append(songs[i].get_text().strip(\"\\n\"))"
   ]
  },
  {
   "cell_type": "code",
   "execution_count": 10,
   "id": "5a18cb92",
   "metadata": {},
   "outputs": [],
   "source": [
    "#Creating dataframe from lists\n",
    "df = pd.DataFrame({\"artists\": artists_names, \"songs\": song_titles})"
   ]
  },
  {
   "cell_type": "code",
   "execution_count": 11,
   "id": "25ae7794",
   "metadata": {},
   "outputs": [],
   "source": [
    "#lower cases for column names\n",
    "df[\"artists\"] = df['artists'].str.lower()\n",
    "df[\"songs\"] = df[\"songs\"].str.lower()"
   ]
  },
  {
   "cell_type": "code",
   "execution_count": 12,
   "id": "ea3c807c",
   "metadata": {},
   "outputs": [],
   "source": [
    "#Saving dataframe\n",
    "df.to_csv(\"hotlist.csv\", index=False)"
   ]
  }
 ],
 "metadata": {
  "kernelspec": {
   "display_name": "Python 3 (ipykernel)",
   "language": "python",
   "name": "python3"
  },
  "language_info": {
   "codemirror_mode": {
    "name": "ipython",
    "version": 3
   },
   "file_extension": ".py",
   "mimetype": "text/x-python",
   "name": "python",
   "nbconvert_exporter": "python",
   "pygments_lexer": "ipython3",
   "version": "3.9.7"
  }
 },
 "nbformat": 4,
 "nbformat_minor": 5
}
